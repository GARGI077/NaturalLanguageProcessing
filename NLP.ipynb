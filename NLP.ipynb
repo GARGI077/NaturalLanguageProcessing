{
  "nbformat": 4,
  "nbformat_minor": 0,
  "metadata": {
    "colab": {
      "name": "NLP.ipynb",
      "provenance": [],
      "collapsed_sections": []
    },
    "kernelspec": {
      "name": "python3",
      "display_name": "Python 3"
    },
    "language_info": {
      "name": "python"
    }
  },
  "cells": [
    {
      "cell_type": "code",
      "execution_count": null,
      "metadata": {
        "colab": {
          "base_uri": "https://localhost:8080/"
        },
        "id": "umlxYNizzFYx",
        "outputId": "e4d7f0fb-ebee-4136-a9f1-9f3175f675fb"
      },
      "outputs": [
        {
          "output_type": "stream",
          "name": "stdout",
          "text": [
            "Requirement already satisfied: nltk in /usr/local/lib/python3.7/dist-packages (3.2.5)\n",
            "Requirement already satisfied: six in /usr/local/lib/python3.7/dist-packages (from nltk) (1.15.0)\n"
          ]
        }
      ],
      "source": [
        "pip install nltk"
      ]
    },
    {
      "cell_type": "code",
      "source": [
        "import nltk\n"
      ],
      "metadata": {
        "id": "swdfSKZs2QYn"
      },
      "execution_count": null,
      "outputs": []
    },
    {
      "cell_type": "code",
      "source": [
        "nltk.download('punkt')"
      ],
      "metadata": {
        "colab": {
          "base_uri": "https://localhost:8080/"
        },
        "id": "j08xTOX23EV_",
        "outputId": "d7fe87c1-9ba0-46da-b7ec-f3a39e2611dc"
      },
      "execution_count": null,
      "outputs": [
        {
          "output_type": "stream",
          "name": "stdout",
          "text": [
            "[nltk_data] Downloading package punkt to /root/nltk_data...\n",
            "[nltk_data]   Unzipping tokenizers/punkt.zip.\n"
          ]
        },
        {
          "output_type": "execute_result",
          "data": {
            "text/plain": [
              "True"
            ]
          },
          "metadata": {},
          "execution_count": 4
        }
      ]
    },
    {
      "cell_type": "code",
      "source": [
        ""
      ],
      "metadata": {
        "id": "td2NFDZj66CH"
      },
      "execution_count": null,
      "outputs": []
    },
    {
      "cell_type": "code",
      "source": [
        "from nltk.tokenize import sent_tokenize\n",
        "from nltk.tokenize import word_tokenize\n",
        "from nltk.probability import FreqDist\n",
        "\n",
        "text = \"Hello everyone. My name is Gargi Singh. I am student of IGDTUW . I am pursuing Masters in Artificial Intelligence.I love Dancing.I am a Animal Lover.I have multiple animals in my  house.I own serveral animals like ducks,dogs,horses,cats,\"\n",
        "words=word_tokenize(text)\n",
        "sentence=sent_tokenize(text)\n",
        "print(\"words Tokenize \",words)\n",
        "print(\"sentence Tokenization : \",sentence)\n",
        "\n",
        "fdist=FreqDist(words)\n",
        "print(\"Frequency :\",fdist)\n",
        "print(\"Most Comman : \",fdist.most_common(6))"
      ],
      "metadata": {
        "colab": {
          "base_uri": "https://localhost:8080/"
        },
        "id": "PeDfS3fA2QDh",
        "outputId": "f4cc2f93-b2a5-4589-cd18-a2cf05a315c0"
      },
      "execution_count": 21,
      "outputs": [
        {
          "output_type": "stream",
          "name": "stdout",
          "text": [
            "words Tokenize  ['Hello', 'everyone', '.', 'My', 'name', 'is', 'Gargi', 'Singh', '.', 'I', 'am', 'student', 'of', 'IGDTUW', '.', 'I', 'am', 'pursuing', 'Masters', 'in', 'Artificial', 'Intelligence.I', 'love', 'Dancing.I', 'am', 'a', 'Animal', 'Lover.I', 'have', 'multiple', 'animals', 'in', 'my', 'house.I', 'own', 'serveral', 'animals', 'like', 'ducks', ',', 'dogs', ',', 'horses', ',', 'cats', ',']\n",
            "sentence Tokenization :  ['Hello everyone.', 'My name is Gargi Singh.', 'I am student of IGDTUW .', 'I am pursuing Masters in Artificial Intelligence.I love Dancing.I am a Animal Lover.I have multiple animals in my  house.I own serveral animals like ducks,dogs,horses,cats,']\n",
            "Frequency : <FreqDist with 36 samples and 46 outcomes>\n",
            "Most Comman :  [(',', 4), ('.', 3), ('am', 3), ('I', 2), ('in', 2), ('animals', 2)]\n"
          ]
        }
      ]
    },
    {
      "cell_type": "code",
      "source": [
        ""
      ],
      "metadata": {
        "id": "MsKUS5BB5z-f"
      },
      "execution_count": 13,
      "outputs": []
    },
    {
      "cell_type": "code",
      "source": [
        ""
      ],
      "metadata": {
        "id": "7u3A1kM85z7s"
      },
      "execution_count": null,
      "outputs": []
    },
    {
      "cell_type": "code",
      "source": [
        ""
      ],
      "metadata": {
        "id": "BxOTozOU5z47"
      },
      "execution_count": null,
      "outputs": []
    },
    {
      "cell_type": "code",
      "source": [
        ""
      ],
      "metadata": {
        "id": "4zV5Yy8-5z2T"
      },
      "execution_count": null,
      "outputs": []
    },
    {
      "cell_type": "code",
      "source": [
        ""
      ],
      "metadata": {
        "id": "oY9WFQKx5zzi"
      },
      "execution_count": null,
      "outputs": []
    },
    {
      "cell_type": "code",
      "source": [
        ""
      ],
      "metadata": {
        "id": "2bP_j7T15zw3"
      },
      "execution_count": null,
      "outputs": []
    }
  ]
}